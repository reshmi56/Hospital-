{
  "nbformat": 4,
  "nbformat_minor": 0,
  "metadata": {
    "colab": {
      "provenance": [],
      "authorship_tag": "ABX9TyMKZvBZOyzS1gSNowjl00sJ",
      "include_colab_link": true
    },
    "kernelspec": {
      "name": "python3",
      "display_name": "Python 3"
    },
    "language_info": {
      "name": "python"
    }
  },
  "cells": [
    {
      "cell_type": "markdown",
      "metadata": {
        "id": "view-in-github",
        "colab_type": "text"
      },
      "source": [
        "<a href=\"https://colab.research.google.com/github/reshmi56/Hospital-/blob/main/Pandas_tutorial.ipynb\" target=\"_parent\"><img src=\"https://colab.research.google.com/assets/colab-badge.svg\" alt=\"Open In Colab\"/></a>"
      ]
    },
    {
      "cell_type": "markdown",
      "source": [
        "To work with large amount of dataset"
      ],
      "metadata": {
        "id": "uJyoSHuzoiaj"
      }
    },
    {
      "cell_type": "code",
      "source": [
        "import pandas as pd\n",
        "df=pd.read_csv('/content/heart_records_dataset.csv')\n",
        "df"
      ],
      "metadata": {
        "colab": {
          "base_uri": "https://localhost:8080/",
          "height": 444
        },
        "id": "peomyziuooV2",
        "outputId": "0d9ce30d-8e34-48cc-f17b-99c21cd71c87"
      },
      "execution_count": 1,
      "outputs": [
        {
          "output_type": "execute_result",
          "data": {
            "text/plain": [
              "      age  anaemia  creatinine_phosphokinase  diabetes  ejection_fraction  \\\n",
              "0    75.0        0                       582         0                 20   \n",
              "1    55.0        0                      7861         0                 38   \n",
              "2    65.0        0                       146         0                 20   \n",
              "3    50.0        1                       111         0                 20   \n",
              "4    65.0        1                       160         1                 20   \n",
              "..    ...      ...                       ...       ...                ...   \n",
              "294  62.0        0                        61         1                 38   \n",
              "295  55.0        0                      1820         0                 38   \n",
              "296  45.0        0                      2060         1                 60   \n",
              "297  45.0        0                      2413         0                 38   \n",
              "298  50.0        0                       196         0                 45   \n",
              "\n",
              "     high_blood_pressure  platelets  serum_creatinine  serum_sodium  sex  \\\n",
              "0                      1  265000.00               1.9           130    1   \n",
              "1                      0  263358.03               1.1           136    1   \n",
              "2                      0  162000.00               1.3           129    1   \n",
              "3                      0  210000.00               1.9           137    1   \n",
              "4                      0  327000.00               2.7           116    0   \n",
              "..                   ...        ...               ...           ...  ...   \n",
              "294                    1  155000.00               1.1           143    1   \n",
              "295                    0  270000.00               1.2           139    0   \n",
              "296                    0  742000.00               0.8           138    0   \n",
              "297                    0  140000.00               1.4           140    1   \n",
              "298                    0  395000.00               1.6           136    1   \n",
              "\n",
              "     smoking  time  DEATH_EVENT  \n",
              "0          0     4            1  \n",
              "1          0     6            1  \n",
              "2          1     7            1  \n",
              "3          0     7            1  \n",
              "4          0     8            1  \n",
              "..       ...   ...          ...  \n",
              "294        1   270            0  \n",
              "295        0   271            0  \n",
              "296        0   278            0  \n",
              "297        1   280            0  \n",
              "298        1   285            0  \n",
              "\n",
              "[299 rows x 13 columns]"
            ],
            "text/html": [
              "\n",
              "  <div id=\"df-0df2c1d9-8657-459b-a14a-ef100407bf58\" class=\"colab-df-container\">\n",
              "    <div>\n",
              "<style scoped>\n",
              "    .dataframe tbody tr th:only-of-type {\n",
              "        vertical-align: middle;\n",
              "    }\n",
              "\n",
              "    .dataframe tbody tr th {\n",
              "        vertical-align: top;\n",
              "    }\n",
              "\n",
              "    .dataframe thead th {\n",
              "        text-align: right;\n",
              "    }\n",
              "</style>\n",
              "<table border=\"1\" class=\"dataframe\">\n",
              "  <thead>\n",
              "    <tr style=\"text-align: right;\">\n",
              "      <th></th>\n",
              "      <th>age</th>\n",
              "      <th>anaemia</th>\n",
              "      <th>creatinine_phosphokinase</th>\n",
              "      <th>diabetes</th>\n",
              "      <th>ejection_fraction</th>\n",
              "      <th>high_blood_pressure</th>\n",
              "      <th>platelets</th>\n",
              "      <th>serum_creatinine</th>\n",
              "      <th>serum_sodium</th>\n",
              "      <th>sex</th>\n",
              "      <th>smoking</th>\n",
              "      <th>time</th>\n",
              "      <th>DEATH_EVENT</th>\n",
              "    </tr>\n",
              "  </thead>\n",
              "  <tbody>\n",
              "    <tr>\n",
              "      <th>0</th>\n",
              "      <td>75.0</td>\n",
              "      <td>0</td>\n",
              "      <td>582</td>\n",
              "      <td>0</td>\n",
              "      <td>20</td>\n",
              "      <td>1</td>\n",
              "      <td>265000.00</td>\n",
              "      <td>1.9</td>\n",
              "      <td>130</td>\n",
              "      <td>1</td>\n",
              "      <td>0</td>\n",
              "      <td>4</td>\n",
              "      <td>1</td>\n",
              "    </tr>\n",
              "    <tr>\n",
              "      <th>1</th>\n",
              "      <td>55.0</td>\n",
              "      <td>0</td>\n",
              "      <td>7861</td>\n",
              "      <td>0</td>\n",
              "      <td>38</td>\n",
              "      <td>0</td>\n",
              "      <td>263358.03</td>\n",
              "      <td>1.1</td>\n",
              "      <td>136</td>\n",
              "      <td>1</td>\n",
              "      <td>0</td>\n",
              "      <td>6</td>\n",
              "      <td>1</td>\n",
              "    </tr>\n",
              "    <tr>\n",
              "      <th>2</th>\n",
              "      <td>65.0</td>\n",
              "      <td>0</td>\n",
              "      <td>146</td>\n",
              "      <td>0</td>\n",
              "      <td>20</td>\n",
              "      <td>0</td>\n",
              "      <td>162000.00</td>\n",
              "      <td>1.3</td>\n",
              "      <td>129</td>\n",
              "      <td>1</td>\n",
              "      <td>1</td>\n",
              "      <td>7</td>\n",
              "      <td>1</td>\n",
              "    </tr>\n",
              "    <tr>\n",
              "      <th>3</th>\n",
              "      <td>50.0</td>\n",
              "      <td>1</td>\n",
              "      <td>111</td>\n",
              "      <td>0</td>\n",
              "      <td>20</td>\n",
              "      <td>0</td>\n",
              "      <td>210000.00</td>\n",
              "      <td>1.9</td>\n",
              "      <td>137</td>\n",
              "      <td>1</td>\n",
              "      <td>0</td>\n",
              "      <td>7</td>\n",
              "      <td>1</td>\n",
              "    </tr>\n",
              "    <tr>\n",
              "      <th>4</th>\n",
              "      <td>65.0</td>\n",
              "      <td>1</td>\n",
              "      <td>160</td>\n",
              "      <td>1</td>\n",
              "      <td>20</td>\n",
              "      <td>0</td>\n",
              "      <td>327000.00</td>\n",
              "      <td>2.7</td>\n",
              "      <td>116</td>\n",
              "      <td>0</td>\n",
              "      <td>0</td>\n",
              "      <td>8</td>\n",
              "      <td>1</td>\n",
              "    </tr>\n",
              "    <tr>\n",
              "      <th>...</th>\n",
              "      <td>...</td>\n",
              "      <td>...</td>\n",
              "      <td>...</td>\n",
              "      <td>...</td>\n",
              "      <td>...</td>\n",
              "      <td>...</td>\n",
              "      <td>...</td>\n",
              "      <td>...</td>\n",
              "      <td>...</td>\n",
              "      <td>...</td>\n",
              "      <td>...</td>\n",
              "      <td>...</td>\n",
              "      <td>...</td>\n",
              "    </tr>\n",
              "    <tr>\n",
              "      <th>294</th>\n",
              "      <td>62.0</td>\n",
              "      <td>0</td>\n",
              "      <td>61</td>\n",
              "      <td>1</td>\n",
              "      <td>38</td>\n",
              "      <td>1</td>\n",
              "      <td>155000.00</td>\n",
              "      <td>1.1</td>\n",
              "      <td>143</td>\n",
              "      <td>1</td>\n",
              "      <td>1</td>\n",
              "      <td>270</td>\n",
              "      <td>0</td>\n",
              "    </tr>\n",
              "    <tr>\n",
              "      <th>295</th>\n",
              "      <td>55.0</td>\n",
              "      <td>0</td>\n",
              "      <td>1820</td>\n",
              "      <td>0</td>\n",
              "      <td>38</td>\n",
              "      <td>0</td>\n",
              "      <td>270000.00</td>\n",
              "      <td>1.2</td>\n",
              "      <td>139</td>\n",
              "      <td>0</td>\n",
              "      <td>0</td>\n",
              "      <td>271</td>\n",
              "      <td>0</td>\n",
              "    </tr>\n",
              "    <tr>\n",
              "      <th>296</th>\n",
              "      <td>45.0</td>\n",
              "      <td>0</td>\n",
              "      <td>2060</td>\n",
              "      <td>1</td>\n",
              "      <td>60</td>\n",
              "      <td>0</td>\n",
              "      <td>742000.00</td>\n",
              "      <td>0.8</td>\n",
              "      <td>138</td>\n",
              "      <td>0</td>\n",
              "      <td>0</td>\n",
              "      <td>278</td>\n",
              "      <td>0</td>\n",
              "    </tr>\n",
              "    <tr>\n",
              "      <th>297</th>\n",
              "      <td>45.0</td>\n",
              "      <td>0</td>\n",
              "      <td>2413</td>\n",
              "      <td>0</td>\n",
              "      <td>38</td>\n",
              "      <td>0</td>\n",
              "      <td>140000.00</td>\n",
              "      <td>1.4</td>\n",
              "      <td>140</td>\n",
              "      <td>1</td>\n",
              "      <td>1</td>\n",
              "      <td>280</td>\n",
              "      <td>0</td>\n",
              "    </tr>\n",
              "    <tr>\n",
              "      <th>298</th>\n",
              "      <td>50.0</td>\n",
              "      <td>0</td>\n",
              "      <td>196</td>\n",
              "      <td>0</td>\n",
              "      <td>45</td>\n",
              "      <td>0</td>\n",
              "      <td>395000.00</td>\n",
              "      <td>1.6</td>\n",
              "      <td>136</td>\n",
              "      <td>1</td>\n",
              "      <td>1</td>\n",
              "      <td>285</td>\n",
              "      <td>0</td>\n",
              "    </tr>\n",
              "  </tbody>\n",
              "</table>\n",
              "<p>299 rows × 13 columns</p>\n",
              "</div>\n",
              "    <div class=\"colab-df-buttons\">\n",
              "\n",
              "  <div class=\"colab-df-container\">\n",
              "    <button class=\"colab-df-convert\" onclick=\"convertToInteractive('df-0df2c1d9-8657-459b-a14a-ef100407bf58')\"\n",
              "            title=\"Convert this dataframe to an interactive table.\"\n",
              "            style=\"display:none;\">\n",
              "\n",
              "  <svg xmlns=\"http://www.w3.org/2000/svg\" height=\"24px\" viewBox=\"0 -960 960 960\">\n",
              "    <path d=\"M120-120v-720h720v720H120Zm60-500h600v-160H180v160Zm220 220h160v-160H400v160Zm0 220h160v-160H400v160ZM180-400h160v-160H180v160Zm440 0h160v-160H620v160ZM180-180h160v-160H180v160Zm440 0h160v-160H620v160Z\"/>\n",
              "  </svg>\n",
              "    </button>\n",
              "\n",
              "  <style>\n",
              "    .colab-df-container {\n",
              "      display:flex;\n",
              "      gap: 12px;\n",
              "    }\n",
              "\n",
              "    .colab-df-convert {\n",
              "      background-color: #E8F0FE;\n",
              "      border: none;\n",
              "      border-radius: 50%;\n",
              "      cursor: pointer;\n",
              "      display: none;\n",
              "      fill: #1967D2;\n",
              "      height: 32px;\n",
              "      padding: 0 0 0 0;\n",
              "      width: 32px;\n",
              "    }\n",
              "\n",
              "    .colab-df-convert:hover {\n",
              "      background-color: #E2EBFA;\n",
              "      box-shadow: 0px 1px 2px rgba(60, 64, 67, 0.3), 0px 1px 3px 1px rgba(60, 64, 67, 0.15);\n",
              "      fill: #174EA6;\n",
              "    }\n",
              "\n",
              "    .colab-df-buttons div {\n",
              "      margin-bottom: 4px;\n",
              "    }\n",
              "\n",
              "    [theme=dark] .colab-df-convert {\n",
              "      background-color: #3B4455;\n",
              "      fill: #D2E3FC;\n",
              "    }\n",
              "\n",
              "    [theme=dark] .colab-df-convert:hover {\n",
              "      background-color: #434B5C;\n",
              "      box-shadow: 0px 1px 3px 1px rgba(0, 0, 0, 0.15);\n",
              "      filter: drop-shadow(0px 1px 2px rgba(0, 0, 0, 0.3));\n",
              "      fill: #FFFFFF;\n",
              "    }\n",
              "  </style>\n",
              "\n",
              "    <script>\n",
              "      const buttonEl =\n",
              "        document.querySelector('#df-0df2c1d9-8657-459b-a14a-ef100407bf58 button.colab-df-convert');\n",
              "      buttonEl.style.display =\n",
              "        google.colab.kernel.accessAllowed ? 'block' : 'none';\n",
              "\n",
              "      async function convertToInteractive(key) {\n",
              "        const element = document.querySelector('#df-0df2c1d9-8657-459b-a14a-ef100407bf58');\n",
              "        const dataTable =\n",
              "          await google.colab.kernel.invokeFunction('convertToInteractive',\n",
              "                                                    [key], {});\n",
              "        if (!dataTable) return;\n",
              "\n",
              "        const docLinkHtml = 'Like what you see? Visit the ' +\n",
              "          '<a target=\"_blank\" href=https://colab.research.google.com/notebooks/data_table.ipynb>data table notebook</a>'\n",
              "          + ' to learn more about interactive tables.';\n",
              "        element.innerHTML = '';\n",
              "        dataTable['output_type'] = 'display_data';\n",
              "        await google.colab.output.renderOutput(dataTable, element);\n",
              "        const docLink = document.createElement('div');\n",
              "        docLink.innerHTML = docLinkHtml;\n",
              "        element.appendChild(docLink);\n",
              "      }\n",
              "    </script>\n",
              "  </div>\n",
              "\n",
              "\n",
              "<div id=\"df-c096f31f-8240-4c83-9655-aa574f1fc378\">\n",
              "  <button class=\"colab-df-quickchart\" onclick=\"quickchart('df-c096f31f-8240-4c83-9655-aa574f1fc378')\"\n",
              "            title=\"Suggest charts\"\n",
              "            style=\"display:none;\">\n",
              "\n",
              "<svg xmlns=\"http://www.w3.org/2000/svg\" height=\"24px\"viewBox=\"0 0 24 24\"\n",
              "     width=\"24px\">\n",
              "    <g>\n",
              "        <path d=\"M19 3H5c-1.1 0-2 .9-2 2v14c0 1.1.9 2 2 2h14c1.1 0 2-.9 2-2V5c0-1.1-.9-2-2-2zM9 17H7v-7h2v7zm4 0h-2V7h2v10zm4 0h-2v-4h2v4z\"/>\n",
              "    </g>\n",
              "</svg>\n",
              "  </button>\n",
              "\n",
              "<style>\n",
              "  .colab-df-quickchart {\n",
              "      --bg-color: #E8F0FE;\n",
              "      --fill-color: #1967D2;\n",
              "      --hover-bg-color: #E2EBFA;\n",
              "      --hover-fill-color: #174EA6;\n",
              "      --disabled-fill-color: #AAA;\n",
              "      --disabled-bg-color: #DDD;\n",
              "  }\n",
              "\n",
              "  [theme=dark] .colab-df-quickchart {\n",
              "      --bg-color: #3B4455;\n",
              "      --fill-color: #D2E3FC;\n",
              "      --hover-bg-color: #434B5C;\n",
              "      --hover-fill-color: #FFFFFF;\n",
              "      --disabled-bg-color: #3B4455;\n",
              "      --disabled-fill-color: #666;\n",
              "  }\n",
              "\n",
              "  .colab-df-quickchart {\n",
              "    background-color: var(--bg-color);\n",
              "    border: none;\n",
              "    border-radius: 50%;\n",
              "    cursor: pointer;\n",
              "    display: none;\n",
              "    fill: var(--fill-color);\n",
              "    height: 32px;\n",
              "    padding: 0;\n",
              "    width: 32px;\n",
              "  }\n",
              "\n",
              "  .colab-df-quickchart:hover {\n",
              "    background-color: var(--hover-bg-color);\n",
              "    box-shadow: 0 1px 2px rgba(60, 64, 67, 0.3), 0 1px 3px 1px rgba(60, 64, 67, 0.15);\n",
              "    fill: var(--button-hover-fill-color);\n",
              "  }\n",
              "\n",
              "  .colab-df-quickchart-complete:disabled,\n",
              "  .colab-df-quickchart-complete:disabled:hover {\n",
              "    background-color: var(--disabled-bg-color);\n",
              "    fill: var(--disabled-fill-color);\n",
              "    box-shadow: none;\n",
              "  }\n",
              "\n",
              "  .colab-df-spinner {\n",
              "    border: 2px solid var(--fill-color);\n",
              "    border-color: transparent;\n",
              "    border-bottom-color: var(--fill-color);\n",
              "    animation:\n",
              "      spin 1s steps(1) infinite;\n",
              "  }\n",
              "\n",
              "  @keyframes spin {\n",
              "    0% {\n",
              "      border-color: transparent;\n",
              "      border-bottom-color: var(--fill-color);\n",
              "      border-left-color: var(--fill-color);\n",
              "    }\n",
              "    20% {\n",
              "      border-color: transparent;\n",
              "      border-left-color: var(--fill-color);\n",
              "      border-top-color: var(--fill-color);\n",
              "    }\n",
              "    30% {\n",
              "      border-color: transparent;\n",
              "      border-left-color: var(--fill-color);\n",
              "      border-top-color: var(--fill-color);\n",
              "      border-right-color: var(--fill-color);\n",
              "    }\n",
              "    40% {\n",
              "      border-color: transparent;\n",
              "      border-right-color: var(--fill-color);\n",
              "      border-top-color: var(--fill-color);\n",
              "    }\n",
              "    60% {\n",
              "      border-color: transparent;\n",
              "      border-right-color: var(--fill-color);\n",
              "    }\n",
              "    80% {\n",
              "      border-color: transparent;\n",
              "      border-right-color: var(--fill-color);\n",
              "      border-bottom-color: var(--fill-color);\n",
              "    }\n",
              "    90% {\n",
              "      border-color: transparent;\n",
              "      border-bottom-color: var(--fill-color);\n",
              "    }\n",
              "  }\n",
              "</style>\n",
              "\n",
              "  <script>\n",
              "    async function quickchart(key) {\n",
              "      const quickchartButtonEl =\n",
              "        document.querySelector('#' + key + ' button');\n",
              "      quickchartButtonEl.disabled = true;  // To prevent multiple clicks.\n",
              "      quickchartButtonEl.classList.add('colab-df-spinner');\n",
              "      try {\n",
              "        const charts = await google.colab.kernel.invokeFunction(\n",
              "            'suggestCharts', [key], {});\n",
              "      } catch (error) {\n",
              "        console.error('Error during call to suggestCharts:', error);\n",
              "      }\n",
              "      quickchartButtonEl.classList.remove('colab-df-spinner');\n",
              "      quickchartButtonEl.classList.add('colab-df-quickchart-complete');\n",
              "    }\n",
              "    (() => {\n",
              "      let quickchartButtonEl =\n",
              "        document.querySelector('#df-c096f31f-8240-4c83-9655-aa574f1fc378 button');\n",
              "      quickchartButtonEl.style.display =\n",
              "        google.colab.kernel.accessAllowed ? 'block' : 'none';\n",
              "    })();\n",
              "  </script>\n",
              "</div>\n",
              "\n",
              "  <div id=\"id_bcd1caa8-9e58-4186-a209-31df1e969548\">\n",
              "    <style>\n",
              "      .colab-df-generate {\n",
              "        background-color: #E8F0FE;\n",
              "        border: none;\n",
              "        border-radius: 50%;\n",
              "        cursor: pointer;\n",
              "        display: none;\n",
              "        fill: #1967D2;\n",
              "        height: 32px;\n",
              "        padding: 0 0 0 0;\n",
              "        width: 32px;\n",
              "      }\n",
              "\n",
              "      .colab-df-generate:hover {\n",
              "        background-color: #E2EBFA;\n",
              "        box-shadow: 0px 1px 2px rgba(60, 64, 67, 0.3), 0px 1px 3px 1px rgba(60, 64, 67, 0.15);\n",
              "        fill: #174EA6;\n",
              "      }\n",
              "\n",
              "      [theme=dark] .colab-df-generate {\n",
              "        background-color: #3B4455;\n",
              "        fill: #D2E3FC;\n",
              "      }\n",
              "\n",
              "      [theme=dark] .colab-df-generate:hover {\n",
              "        background-color: #434B5C;\n",
              "        box-shadow: 0px 1px 3px 1px rgba(0, 0, 0, 0.15);\n",
              "        filter: drop-shadow(0px 1px 2px rgba(0, 0, 0, 0.3));\n",
              "        fill: #FFFFFF;\n",
              "      }\n",
              "    </style>\n",
              "    <button class=\"colab-df-generate\" onclick=\"generateWithVariable('df')\"\n",
              "            title=\"Generate code using this dataframe.\"\n",
              "            style=\"display:none;\">\n",
              "\n",
              "  <svg xmlns=\"http://www.w3.org/2000/svg\" height=\"24px\"viewBox=\"0 0 24 24\"\n",
              "       width=\"24px\">\n",
              "    <path d=\"M7,19H8.4L18.45,9,17,7.55,7,17.6ZM5,21V16.75L18.45,3.32a2,2,0,0,1,2.83,0l1.4,1.43a1.91,1.91,0,0,1,.58,1.4,1.91,1.91,0,0,1-.58,1.4L9.25,21ZM18.45,9,17,7.55Zm-12,3A5.31,5.31,0,0,0,4.9,8.1,5.31,5.31,0,0,0,1,6.5,5.31,5.31,0,0,0,4.9,4.9,5.31,5.31,0,0,0,6.5,1,5.31,5.31,0,0,0,8.1,4.9,5.31,5.31,0,0,0,12,6.5,5.46,5.46,0,0,0,6.5,12Z\"/>\n",
              "  </svg>\n",
              "    </button>\n",
              "    <script>\n",
              "      (() => {\n",
              "      const buttonEl =\n",
              "        document.querySelector('#id_bcd1caa8-9e58-4186-a209-31df1e969548 button.colab-df-generate');\n",
              "      buttonEl.style.display =\n",
              "        google.colab.kernel.accessAllowed ? 'block' : 'none';\n",
              "\n",
              "      buttonEl.onclick = () => {\n",
              "        google.colab.notebook.generateWithVariable('df');\n",
              "      }\n",
              "      })();\n",
              "    </script>\n",
              "  </div>\n",
              "\n",
              "    </div>\n",
              "  </div>\n"
            ],
            "application/vnd.google.colaboratory.intrinsic+json": {
              "type": "dataframe",
              "variable_name": "df",
              "summary": "{\n  \"name\": \"df\",\n  \"rows\": 299,\n  \"fields\": [\n    {\n      \"column\": \"age\",\n      \"properties\": {\n        \"dtype\": \"number\",\n        \"std\": 11.894809074044478,\n        \"min\": 40.0,\n        \"max\": 95.0,\n        \"num_unique_values\": 47,\n        \"samples\": [\n          79.0,\n          40.0,\n          67.0\n        ],\n        \"semantic_type\": \"\",\n        \"description\": \"\"\n      }\n    },\n    {\n      \"column\": \"anaemia\",\n      \"properties\": {\n        \"dtype\": \"number\",\n        \"std\": 0,\n        \"min\": 0,\n        \"max\": 1,\n        \"num_unique_values\": 2,\n        \"samples\": [\n          1,\n          0\n        ],\n        \"semantic_type\": \"\",\n        \"description\": \"\"\n      }\n    },\n    {\n      \"column\": \"creatinine_phosphokinase\",\n      \"properties\": {\n        \"dtype\": \"number\",\n        \"std\": 970,\n        \"min\": 23,\n        \"max\": 7861,\n        \"num_unique_values\": 208,\n        \"samples\": [\n          86,\n          379\n        ],\n        \"semantic_type\": \"\",\n        \"description\": \"\"\n      }\n    },\n    {\n      \"column\": \"diabetes\",\n      \"properties\": {\n        \"dtype\": \"number\",\n        \"std\": 0,\n        \"min\": 0,\n        \"max\": 1,\n        \"num_unique_values\": 2,\n        \"samples\": [\n          1,\n          0\n        ],\n        \"semantic_type\": \"\",\n        \"description\": \"\"\n      }\n    },\n    {\n      \"column\": \"ejection_fraction\",\n      \"properties\": {\n        \"dtype\": \"number\",\n        \"std\": 11,\n        \"min\": 14,\n        \"max\": 80,\n        \"num_unique_values\": 17,\n        \"samples\": [\n          20,\n          38\n        ],\n        \"semantic_type\": \"\",\n        \"description\": \"\"\n      }\n    },\n    {\n      \"column\": \"high_blood_pressure\",\n      \"properties\": {\n        \"dtype\": \"number\",\n        \"std\": 0,\n        \"min\": 0,\n        \"max\": 1,\n        \"num_unique_values\": 2,\n        \"samples\": [\n          0,\n          1\n        ],\n        \"semantic_type\": \"\",\n        \"description\": \"\"\n      }\n    },\n    {\n      \"column\": \"platelets\",\n      \"properties\": {\n        \"dtype\": \"number\",\n        \"std\": 97804.23686859828,\n        \"min\": 25100.0,\n        \"max\": 850000.0,\n        \"num_unique_values\": 176,\n        \"samples\": [\n          297000.0,\n          255000.0\n        ],\n        \"semantic_type\": \"\",\n        \"description\": \"\"\n      }\n    },\n    {\n      \"column\": \"serum_creatinine\",\n      \"properties\": {\n        \"dtype\": \"number\",\n        \"std\": 1.034510064089853,\n        \"min\": 0.5,\n        \"max\": 9.4,\n        \"num_unique_values\": 40,\n        \"samples\": [\n          4.4,\n          3.5\n        ],\n        \"semantic_type\": \"\",\n        \"description\": \"\"\n      }\n    },\n    {\n      \"column\": \"serum_sodium\",\n      \"properties\": {\n        \"dtype\": \"number\",\n        \"std\": 4,\n        \"min\": 113,\n        \"max\": 148,\n        \"num_unique_values\": 27,\n        \"samples\": [\n          133,\n          134\n        ],\n        \"semantic_type\": \"\",\n        \"description\": \"\"\n      }\n    },\n    {\n      \"column\": \"sex\",\n      \"properties\": {\n        \"dtype\": \"number\",\n        \"std\": 0,\n        \"min\": 0,\n        \"max\": 1,\n        \"num_unique_values\": 2,\n        \"samples\": [\n          0,\n          1\n        ],\n        \"semantic_type\": \"\",\n        \"description\": \"\"\n      }\n    },\n    {\n      \"column\": \"smoking\",\n      \"properties\": {\n        \"dtype\": \"number\",\n        \"std\": 0,\n        \"min\": 0,\n        \"max\": 1,\n        \"num_unique_values\": 2,\n        \"samples\": [\n          1,\n          0\n        ],\n        \"semantic_type\": \"\",\n        \"description\": \"\"\n      }\n    },\n    {\n      \"column\": \"time\",\n      \"properties\": {\n        \"dtype\": \"number\",\n        \"std\": 77,\n        \"min\": 4,\n        \"max\": 285,\n        \"num_unique_values\": 148,\n        \"samples\": [\n          215,\n          79\n        ],\n        \"semantic_type\": \"\",\n        \"description\": \"\"\n      }\n    },\n    {\n      \"column\": \"DEATH_EVENT\",\n      \"properties\": {\n        \"dtype\": \"number\",\n        \"std\": 0,\n        \"min\": 0,\n        \"max\": 1,\n        \"num_unique_values\": 2,\n        \"samples\": [\n          0,\n          1\n        ],\n        \"semantic_type\": \"\",\n        \"description\": \"\"\n      }\n    }\n  ]\n}"
            }
          },
          "metadata": {},
          "execution_count": 1
        }
      ]
    },
    {
      "cell_type": "markdown",
      "source": [
        "**Dataframe**\n",
        "2 dimension array or table with rows and columns"
      ],
      "metadata": {
        "id": "wK3RAotdtlPB"
      }
    },
    {
      "cell_type": "markdown",
      "source": [
        "**Different ways of creating dataframe**\n",
        "csv,excel,dictionary,tuple"
      ],
      "metadata": {
        "id": "ETwnUD3etxpE"
      }
    },
    {
      "cell_type": "markdown",
      "source": [
        "---------csv----------\n",
        "import pandas as pd\n",
        "df=pd.read_csv('')\n",
        "df\n",
        "\n",
        "--------------excel-----------\n",
        "df=pd.read_excel('')\n",
        "df\n",
        "\n",
        "--------------dictionary-------\n",
        "weather={\n",
        "         'day'=[mon,tues]\n",
        "         'color'=[red,blue]\n",
        "}\n",
        "df=pd.DataFrame(weather)\n",
        "df\n",
        "\n",
        "-------tuple---------\n",
        "weather=[\n",
        "  ('xx',23)\n",
        "]\n",
        "df=pd.DataFrame(data=weather,columns=['name','age'])\n",
        "df\n"
      ],
      "metadata": {
        "id": "NXrnVlsYxsSk"
      }
    },
    {
      "cell_type": "markdown",
      "source": [
        "**Handling missing values**\n",
        "\n",
        "fillna--->ffill,bfill\n",
        "\n",
        "dropna--thresh\n",
        "\n",
        "interpolate---->linear,time based\n",
        "\n",
        "**Handle missing date**\n",
        "\n",
        "dt=pd.date_range()\n",
        "\n",
        "idx=pd.DatetimeIndex(dt)\n",
        "\n",
        "df.reindex(dt)"
      ],
      "metadata": {
        "id": "ZOTDEZ0uz27-"
      }
    },
    {
      "cell_type": "markdown",
      "source": [
        "**Handle using replace**\n",
        "\n",
        "new=pd.replace(to_replace=[-999],value=0)\n",
        "\n",
        "new\n",
        "\n",
        "new=pd.replace({\n",
        "  -999:np.nan\n",
        "  'no event':'sunday'})\n",
        "\n",
        "  new=pd.replace({\n",
        "    'temp':-99\n",
        "  }np.nan)"
      ],
      "metadata": {
        "id": "s4pPmoBPFFcc"
      }
    },
    {
      "cell_type": "markdown",
      "source": [
        "**GroupBy**\n",
        "Split ,Apply ,Combine\n",
        "\n",
        "g=df.groupby(\"city\")\n",
        "\n",
        "for city,data in g:\n",
        "  print(city)\n",
        "  print(data)\n",
        "\n",
        "g.max()\n"
      ],
      "metadata": {
        "id": "IHY8KTRAHL0n"
      }
    },
    {
      "cell_type": "markdown",
      "source": [
        "**concat()**\n",
        "\n",
        "df=pd.concat([us,ch],ignore_index=True)\n",
        "\n",
        "df=pd.concat([us,ch],keys=['usa','china'])\n",
        "\n",
        "df.loc(us)"
      ],
      "metadata": {
        "id": "k6A1ATGTKmah"
      }
    },
    {
      "cell_type": "markdown",
      "source": [
        "**merge()**\n",
        "\n",
        "new=pd.merge(df1,df2,how='outer',suffixes=_x,_y,indicator=True)(gives which table)\n",
        "\n",
        "outer,inner,left,right"
      ],
      "metadata": {
        "id": "LUgNjgiwNtnZ"
      }
    },
    {
      "cell_type": "markdown",
      "source": [
        "**pivot()**\n",
        "pivot allows to transform or reshape data\n",
        "\n",
        "**pivottable**\n",
        "allows to summarize and aggregate data inside dataframe"
      ],
      "metadata": {
        "id": "WwzNrp7JPjgd"
      }
    },
    {
      "cell_type": "markdown",
      "source": [
        "DataFrame.pivot(index=None, columns=None, values=None)\n",
        "\n",
        "DataFrame.pivot_table(values=None, index=None, columns=None, aggfunc='mean', fill_value=None)\n"
      ],
      "metadata": {
        "id": "QwLZJkU6SsCu"
      }
    },
    {
      "cell_type": "markdown",
      "source": [
        "**melt()**\n",
        "converts wide format dataframe into long format dataframe\n",
        "\n",
        "import pandas as pd\n",
        "\n",
        "# Sample Data\n",
        "data = {'Category': ['A', 'B'], 'Type_X': [10, 30], 'Type_Y': [20, 40]}\n",
        "\n",
        "df = pd.DataFrame(data)\n",
        "\n",
        "# Melt\n",
        "melted = df.melt(id_vars='Category', var_name='Type', value_name='Value')\n"
      ],
      "metadata": {
        "id": "OY6E7cGqTE1i"
      }
    },
    {
      "cell_type": "markdown",
      "source": [
        "**Stack**\n",
        "converts columns to rows(long data format)\n",
        "\n",
        "for data analysis\n",
        "\n",
        "**Unstack**\n",
        "converts rows to columns(wide data format)\n",
        "\n",
        "for data visualisation"
      ],
      "metadata": {
        "id": "qHDlEuB8WRrk"
      }
    },
    {
      "cell_type": "markdown",
      "source": [
        "new=pd.DataFrame(df,index=['1','2'])\n",
        "\n",
        "stacked=new.stack()\n",
        "\n",
        "unstacked=stacked.unstack()\n",
        "\n",
        "\n"
      ],
      "metadata": {
        "id": "JJhbSmlNYIVE"
      }
    },
    {
      "cell_type": "markdown",
      "source": [
        "**CROSSTAB**\n",
        "\n",
        "summarizing the relationship between different categories and for counting occurrences."
      ],
      "metadata": {
        "id": "TIdTp_T0a0qk"
      }
    },
    {
      "cell_type": "markdown",
      "source": [
        "pandas.crosstab(index, columns, values=None, aggfunc='count', margins=False, margins_name='All', dropna=True)\n"
      ],
      "metadata": {
        "id": "OT4Ifkwha7Ra"
      }
    },
    {
      "cell_type": "markdown",
      "source": [
        "margins (optional): If True, adds a summary row and column.\n",
        "margins_name (optional): Name for the margins (default is 'All')."
      ],
      "metadata": {
        "id": "H6vF2F5vbyZ6"
      }
    },
    {
      "cell_type": "markdown",
      "source": [
        "import pandas as pd\n",
        "\n",
        "# Sample Data\n",
        "data = {'Gender': ['Male', 'Female', 'Female', 'Male', 'Female', 'Male'],\n",
        "        'Department': ['HR', 'Engineering', 'HR', 'Engineering', 'Engineering', 'HR']}\n",
        "df = pd.DataFrame(data)\n",
        "\n",
        "# Cross-tabulate Gender vs Department\n",
        "ct = pd.crosstab(df['Gender'], df['Department'])\n",
        "print(ct)\n",
        "\n",
        "Department  Engineering  HR\n",
        "\n",
        "Gender\n",
        "                     \n",
        "Female              2   1\n",
        "\n",
        "Male                1   2\n",
        "\n",
        "\n",
        "# Adding margins to include row and column totals\n",
        "ct_with_margins = pd.crosstab(df['Gender'], df['Department'], margins=True)\n",
        "print(ct_with_margins)\n",
        "\n",
        "Department  Engineering  HR  All\n",
        "\n",
        "Gender                          \n",
        "\n",
        "Female              2   1    3\n",
        "\n",
        "Male                1   2    3\n",
        "\n",
        "All                 3   3    6\n"
      ],
      "metadata": {
        "id": "tbDLlEj_b0b4"
      }
    },
    {
      "cell_type": "markdown",
      "source": [
        "**Time Series Analysis**\n",
        "\n",
        "set of datapoints indexed in time order\n",
        "\n",
        "**Datetime Index**\n",
        "\n",
        "**pd.to_datetime(),set_index()**\n",
        "\n",
        "data={'date':[''],'value':['']}\n",
        "\n",
        "df=pd.DataFrame(data)\n",
        "\n",
        "df['date']=pd.to_datetime(df['date'])\n",
        "\n",
        "df.set_index('date',inplace=True)"
      ],
      "metadata": {
        "id": "uxYMvE7lcW4C"
      }
    },
    {
      "cell_type": "markdown",
      "source": [
        "**Resampling**\n",
        "converts to weekly monthly"
      ],
      "metadata": {
        "id": "-aO6oqFPuBS8"
      }
    },
    {
      "cell_type": "markdown",
      "source": [
        "weekly=df.resample('W').mean()\n",
        "\n",
        "'D': Daily\n",
        "'W': Weekly\n",
        "'M': Monthly\n",
        "'Q': Quarterly\n",
        "'A': Annually"
      ],
      "metadata": {
        "id": "rkHB1KnAuWqf"
      }
    },
    {
      "cell_type": "markdown",
      "source": [
        "**Shifting**:\n",
        "\n",
        "Shifts data by a specified time frequency, useful for comparisons between time periods.\n",
        "\n",
        "df_shifted = df.shift(1)\n",
        "\n",
        "print(df_shifted)\n",
        "\n",
        "         Value\n",
        "Date  \n",
        "\n",
        "2023-01-01    NaN\n",
        "\n",
        "2023-01-02    100\n",
        "\n",
        "2023-01-03    200\n"
      ],
      "metadata": {
        "id": "aOGadIQMustf"
      }
    },
    {
      "cell_type": "markdown",
      "source": [
        "**Rolling Window:**\n",
        "\n",
        "Calculates statistics (e.g., mean, sum) over a rolling window of a specified size.\n",
        "\n",
        "rolling_mean = df['Value'].rolling(window=3).mean()\n",
        "\n",
        "\n",
        "Date\n",
        "2023-01-01      NaN\n",
        "\n",
        "2023-01-02      NaN\n",
        "\n",
        "2023-01-03    150.0\n",
        "\n",
        "Name: Value, dtype: float64\n",
        "\n"
      ],
      "metadata": {
        "id": "fRzoAQMXvR9r"
      }
    },
    {
      "cell_type": "markdown",
      "source": [
        "**Decomposition**\n",
        "\n",
        "Trend: The general direction the data is moving (e.g., increasing, decreasing).\n",
        "\n",
        "Seasonality: Regular patterns repeating over time (e.g., higher sales in December).\n",
        "\n",
        "Residuals (Noise): The random fluctuations or irregularities.\n",
        "\n",
        "import pandas as pd\n",
        "from statsmodels.tsa.seasonal import seasonal_decompose\n",
        "\n",
        "# Example Time Series Data\n",
        "data = [100, 110, 120, 130, 140, 150, 160, 170, 180, 190, 200]\n",
        "\n",
        "dates = pd.date_range('2023-01-01', periods=len(data), freq='D')\n",
        "\n",
        "ts = pd.Series(data, index=dates)\n",
        "\n",
        "# Decompose the time series\n",
        "decomposition = **seasonal_decompose**(ts, model='additive', period=3)\n",
        "\n",
        "decomposition.plot()\n"
      ],
      "metadata": {
        "id": "CARCrE10vvcF"
      }
    },
    {
      "cell_type": "markdown",
      "source": [
        "**Time Series Forecasting:**\n",
        "\n",
        "Autoregressive (AR), Moving Average (MA), and ARMA/ARIMA\n",
        "models are used for forecasting future values based on past observations.\n",
        "\n",
        "Forecasting can be done using libraries such as statsmodels or prophet.\n",
        "\n",
        "from statsmodels.tsa.arima.model import ARIMA\n",
        "\n",
        "# Example time series data\n",
        "ts = pd.Series([100, 120, 130, 150, 170, 200, 220],\n",
        "               index=pd.date_range('2023-01-01', periods=7, freq='D'))\n",
        "\n",
        "# Fit ARIMA model\n",
        "model = ARIMA(ts, order=(1, 1, 1))\n",
        "\n",
        "model_fit = model.fit()\n",
        "\n",
        "# Forecast next 3 values\n",
        "forecast = model_fit.forecast(steps=3)\n",
        "\n",
        "print(forecast)\n"
      ],
      "metadata": {
        "id": "l-hogtlfzp2j"
      }
    },
    {
      "cell_type": "markdown",
      "source": [
        "**Series**: A one-dimensional labeled array capable of holding any data type\n",
        "\n",
        "import pandas as pd\n",
        "\n",
        "s = pd.Series([1, 2, 3, 4])\n",
        "\n",
        "print(s)\n"
      ],
      "metadata": {
        "id": "ECr9O20q0E0A"
      }
    },
    {
      "cell_type": "markdown",
      "source": [
        "**loc**: Access rows and columns by labels.\n",
        "\n",
        "df.loc[0, 'Name']  # Access first row, 'Name' column\n",
        "\n",
        "**iloc**: Access rows and columns by positions.\n",
        "\n",
        "df.iloc[0, 1]  # Access first row, second column"
      ],
      "metadata": {
        "id": "0a4tGzHd1WVU"
      }
    },
    {
      "cell_type": "markdown",
      "source": [
        "at: Faster access for scalar values by label.\n",
        "\n",
        "df.at[0, 'Name']\n",
        "\n",
        "iat: Faster access for scalar values by position.\n",
        "\n",
        "df.iat[0, 1]\n",
        "\n",
        "Filtering Data:\n",
        "\n",
        "Boolean Indexing:\n",
        "\n",
        "df[df['Age'] > 25]\n",
        "\n",
        "Querying:\n",
        "\n",
        "df.query(\"Age > 25\")"
      ],
      "metadata": {
        "id": "EHnueIkm1qKc"
      }
    },
    {
      "cell_type": "markdown",
      "source": [
        "**apply**(): Apply a function along an axis (row/column).\n",
        "\n",
        "df['Age'].apply(lambda x: x * 2)\n",
        "\n",
        "**map**(): Apply a function element-wise to a Series.\n",
        "\n",
        "df['Age'].map(lambda x: x * 2)\n",
        "\n",
        "**Vectorized Operations:**\n",
        "\n",
        "df['Age'] * 2\n",
        "\n",
        "**Sorting**:\n",
        "**By values:**\n",
        "\n",
        "df.sort_values('Age', ascending=False)\n",
        "\n",
        "**By index:**\n",
        "\n",
        "df.sort_index()"
      ],
      "metadata": {
        "id": "wVXMaLBa2UQh"
      }
    },
    {
      "cell_type": "markdown",
      "source": [
        "**Large Datasets:**\n",
        "\n",
        "Process in chunks:\n",
        "\n",
        "for chunk in pd.read_csv('file.csv', chunksize=1000):\n",
        "    process(chunk)"
      ],
      "metadata": {
        "id": "f82m6_iT3sJx"
      }
    },
    {
      "cell_type": "markdown",
      "source": [
        "**Memory Usage:**\n",
        "\n",
        "Check:\n",
        "\n",
        "df.memory_usage()"
      ],
      "metadata": {
        "id": "EwdrDN1K3ygL"
      }
    },
    {
      "cell_type": "markdown",
      "source": [
        "df = pd.read_csv('file.csv')\n",
        "\n",
        "df.to_csv('file.csv')\n"
      ],
      "metadata": {
        "id": "0610CElI4DOd"
      }
    },
    {
      "cell_type": "markdown",
      "source": [],
      "metadata": {
        "id": "k7fNCS534I9S"
      }
    },
    {
      "cell_type": "markdown",
      "source": [],
      "metadata": {
        "id": "HfA5vDRN3DII"
      }
    }
  ]
}